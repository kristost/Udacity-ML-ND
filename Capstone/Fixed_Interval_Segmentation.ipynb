{
 "cells": [
  {
   "cell_type": "code",
   "execution_count": null,
   "metadata": {
    "collapsed": true
   },
   "outputs": [],
   "source": [
    "import librosa\n",
    "import librosa.display\n",
    "\n",
    "import matplotlib\n",
    "import matplotlib.pyplot as plt\n",
    "from matplotlib import cm\n",
    "\n",
    "import numpy as np\n",
    "import scipy"
   ]
  },
  {
   "cell_type": "code",
   "execution_count": null,
   "metadata": {
    "collapsed": true
   },
   "outputs": [],
   "source": [
    "import os"
   ]
  },
  {
   "cell_type": "code",
   "execution_count": null,
   "metadata": {
    "collapsed": true
   },
   "outputs": [],
   "source": [
    "def generate_mel_spectrogram(wav, sampling_rate, win_length, hop_length):\n",
    "    \n",
    "    y, sr = librosa.load('emodb/wav/' + wav, sr=sampling_rate)\n",
    "\n",
    "    emphasized_signal = np.append(y[0], y[1:] - 0.97 * y[:-1])\n",
    "\n",
    "    y = emphasized_signal\n",
    "\n",
    "    stft = librosa.core.stft(y, win_length=win_length, hop_length=hop_length, window=scipy.signal.hamming, center=True)\n",
    "    \n",
    "    abs_stft = np.abs(stft)**2\n",
    "    \n",
    "    D = librosa.logamplitude(abs_stft, ref=np.max)\n",
    "\n",
    "    spec = librosa.feature.melspectrogram(S=D, n_mels=40, sr=sampling_rate, norm=1, fmax=freq)\n",
    "    \n",
    "    return spec"
   ]
  },
  {
   "cell_type": "code",
   "execution_count": null,
   "metadata": {
    "collapsed": true
   },
   "outputs": [],
   "source": [
    "# Create a non-mel spectrogram (not used)\n",
    "def generate_spectrogram(wav, sampling_rate, win_length, hop_length, use_scipy=False):\n",
    "    \n",
    "    if use_scipy:\n",
    "        from scipy.io import wavfile\n",
    "        from scipy import signal\n",
    "\n",
    "        eps=1e-10\n",
    "        rate, data = wavfile.read('emodb/wav/' + wav)\n",
    "        if data.ndim > 1 : # ignore  channels 2+\n",
    "            data = data[:, 0]\n",
    "\n",
    "        nperseg = win_length\n",
    "        noverlap = hop_length\n",
    "        freqs, times, spec = signal.spectrogram(data, fs=sampling_rate, window='hamming', nperseg=nperseg, noverlap=noverlap)\n",
    "        log_specgram = np.log(spec.T.astype(np.float32) + eps)\n",
    "\n",
    "        return log_specgram\n",
    "    else:\n",
    "        y, sr = librosa.load('emodb/wav/' + wav, sr=sampling_rate)\n",
    "        S = librosa.core.stft(y, n_fft=512, hop_length=hop_length, win_length=win_length, window ='hamming')\n",
    "        S = librosa.power_to_db(S, ref=np.max)\n",
    "        \n",
    "        return S"
   ]
  },
  {
   "cell_type": "code",
   "execution_count": null,
   "metadata": {
    "collapsed": true
   },
   "outputs": [],
   "source": [
    "def make_librosa_image(spec, frame_start, frame_end, sampling_rate, hop_length,\n",
    "               xAxis, yAxis, img_name, freq, sub_spec_idx, img_width, img_height,\n",
    "               save_fig=False):\n",
    "    \n",
    "    fig = plt.figure()\n",
    "    \n",
    "    im = librosa.display.specshow(spec[:,frame_start:frame_end], cmap=cm.jet,\n",
    "                             sr=sampling_rate, hop_length=hop_length, x_axis=xAxis, y_axis='hz')\n",
    "    im.set_ylim(0, freq)\n",
    "    plt.tight_layout()\n",
    "    im.axes.get_xaxis().set_visible(False)\n",
    "    im.axes.get_yaxis().set_visible(False)\n",
    "    \n",
    "    fig.set_size_inches((img_width/float(DPI)),((img_height/float(DPI))))\n",
    "    \n",
    "    if save_fig:\n",
    "        fname = 'emodb/specgrams/' + img_name + '_' + str(freq) + '_' + str(sub_spec_idx) + '.png'\n",
    "        plt.savefig(fname, bbox_inches='tight', pad_inches=-0.01, dpi=dpi, transparent=True)\n",
    "        \n",
    "        from PIL import Image\n",
    "        im = Image.open(fname)\n",
    "        im.resize((img_width, img_height)).save(fname)\n",
    "#         print(fname)"
   ]
  },
  {
   "cell_type": "code",
   "execution_count": null,
   "metadata": {
    "collapsed": true
   },
   "outputs": [],
   "source": [
    "# This creates a non-mel spectrogram (currently not used)\n",
    "def make_image(spec, frame_start, frame_end, sampling_rate, hop_length,\n",
    "               xAxis, yAxis, img_name, freq, sub_spec_idx, img_width, img_height,\n",
    "               save_fig=False):\n",
    "    \n",
    "    spec_rot = np.rot90(spec[:,frame_start:frame_end])\n",
    "    \n",
    "    plt_img = plt.imshow(spec_rot, cmap=cm.jet, extent=[0, img_width, 0, img_height], interpolation='nearest', aspect='equal')\n",
    "    \n",
    "    plt.axis('off')\n",
    "    if save_fig:\n",
    "        fname = 'emodb/specgrams/' + img_name + '_' + str(freq) + '_' + str(sub_spec_idx) + '.png'\n",
    "        plt.imsave(arr=spec_rot, fname=fname, dpi=dpi, cmap=cm.jet)\n",
    "        from PIL import Image\n",
    "        im = Image.open(fname)\n",
    "        im.resize((img_width, img_height)).save(fname)\n",
    "        \n",
    "        # plt.savefig(fname, bbox_inches='tight', pad_inches=-0.01, dpi=dpi, transparent=True)\n",
    "    "
   ]
  },
  {
   "cell_type": "code",
   "execution_count": null,
   "metadata": {},
   "outputs": [],
   "source": [
    "sampling_rate = 16000\n",
    "dpi = 72\n",
    "DPI = plt.gcf().get_dpi()\n",
    "print(DPI)\n",
    "\n",
    "img_width = 256\n",
    "img_height = 256\n",
    "\n",
    "win = 20\n",
    "hop = 10\n",
    "\n",
    "win_length = int(np.round((sampling_rate / 1e3) * win))\n",
    "hop_length = int(np.round((sampling_rate / 1e3) * hop))\n",
    "\n",
    "print(win_length, hop_length)\n",
    "\n",
    "min_sec = 1.5\n",
    "min_frames = int(min_sec*sampling_rate/hop_length)\n",
    "print('min_sec: {}'.format(min_sec))\n",
    "print('min_frames: {}'.format(min_frames))\n",
    "\n",
    "mult_dict = dict(zip(np.subtract(range(2,7,1),1), range(2,7,1)))\n",
    "print(mult_dict)\n",
    "\n",
    "frequencies = [7000, 7500, 8000]\n",
    "\n",
    "enable_splitting=True\n",
    "save_img = True\n",
    "\n",
    "plot_axis = 'off'\n",
    "xAxis=None#'time'\n",
    "yAxis=None#'hz'"
   ]
  },
  {
   "cell_type": "code",
   "execution_count": null,
   "metadata": {
    "scrolled": true
   },
   "outputs": [],
   "source": [
    "tracker = []\n",
    "for freq in frequencies:\n",
    "    print('Frequency Max: {}'.format(freq))\n",
    "    for wav in [w for w in os.listdir('emodb/wav/') if w.endswith('.wav')][:]:\n",
    "\n",
    "        spec = generate_spectrogram(wav, sampling_rate, win_length, hop_length)\n",
    "        \n",
    "        img_name = wav[:-4]\n",
    "\n",
    "        # Apply a 'fuzzy' threshold to the cut-off interval\n",
    "        multiples_of = np.isclose(float(spec.shape[1])/(min_frames*1.0), [x*1.0 for x in mult_dict.values()], rtol=0.35)\n",
    "        if enable_splitting and np.any(multiples_of):\n",
    "            idx = np.argmax(multiples_of) + 1\n",
    "\n",
    "            for sub_spec_idx in range(0, mult_dict[idx]):\n",
    "                frame_start = (sub_spec_idx)*min_frames\n",
    "                frame_end = frame_start + min_frames\n",
    "                #print('start: {}, end: {}'.format(frame_start, frame_end))\n",
    "                if np.isclose(spec.shape[1], frame_end, rtol=0.1) or frame_end > spec.shape[1]:\n",
    "                    frame_end = spec.shape[1]\n",
    "                    #print('start: {}, end: {}'.format(frame_start, frame_end))\n",
    "                \n",
    "                #print('start: {}, end: {}'.format(frame_start, frame_end))\n",
    "                tracker.append((frame_end-frame_start)/sampling_rate*hop_length)\n",
    "                make_librosa_image(spec, frame_start, frame_end, sampling_rate, hop_length, xAxis, yAxis, \n",
    "                           img_name, freq, sub_spec_idx, img_width, img_height,save_img)\n",
    "                plt.close()\n",
    "    \n",
    "        else:\n",
    "            #print(spec.shape)\n",
    "            tracker.append(spec.shape[1]/sampling_rate*hop_length)\n",
    "            make_librosa_image(spec, 0, spec.shape[1], sampling_rate, hop_length, xAxis, yAxis, \n",
    "                       img_name, freq, 0, img_width, img_height, save_img)\n",
    "            # plt.show()\n",
    "            plt.close()"
   ]
  },
  {
   "cell_type": "code",
   "execution_count": null,
   "metadata": {},
   "outputs": [],
   "source": [
    "np.max(tracker)"
   ]
  },
  {
   "cell_type": "code",
   "execution_count": null,
   "metadata": {},
   "outputs": [],
   "source": [
    "np.mean(tracker)"
   ]
  },
  {
   "cell_type": "code",
   "execution_count": null,
   "metadata": {},
   "outputs": [],
   "source": [
    "np.std(tracker)"
   ]
  },
  {
   "cell_type": "code",
   "execution_count": null,
   "metadata": {},
   "outputs": [],
   "source": [
    "np.min(tracker)"
   ]
  },
  {
   "cell_type": "code",
   "execution_count": null,
   "metadata": {},
   "outputs": [],
   "source": [
    "plt.hist(tracker)"
   ]
  },
  {
   "cell_type": "code",
   "execution_count": null,
   "metadata": {
    "scrolled": true
   },
   "outputs": [],
   "source": [
    "plt.show()"
   ]
  },
  {
   "cell_type": "code",
   "execution_count": null,
   "metadata": {
    "scrolled": false
   },
   "outputs": [],
   "source": [
    "fig = plt.figure(figsize=(7,7))\n",
    "plt.hist(tracker, bins=8, rwidth=0.9)\n",
    "# plt.xticks(range(10))\n",
    "# plt.xlim([-1,10])\n",
    "# plt.yticks(np.arange(0,900, 50))\n",
    "plt.grid()\n",
    "plt.show()\n",
    "len(tracker)"
   ]
  },
  {
   "cell_type": "code",
   "execution_count": null,
   "metadata": {
    "collapsed": true
   },
   "outputs": [],
   "source": [
    "print(len(tracker))"
   ]
  },
  {
   "cell_type": "code",
   "execution_count": null,
   "metadata": {
    "collapsed": true
   },
   "outputs": [],
   "source": [
    "fig = plt.figure(figsize=(7,7))\n",
    "\n",
    "bins = np.arange(0,3.1,0.2)\n",
    "plt.hist(tracker, bins=bins, rwidth=0.90)\n",
    "plt.xticks(bins)\n",
    "plt.yticks(np.arange(0,900, 50))\n",
    "plt.grid()\n",
    "plt.show()"
   ]
  },
  {
   "cell_type": "code",
   "execution_count": null,
   "metadata": {
    "collapsed": true
   },
   "outputs": [],
   "source": [
    "# This may be useful for plotting the distribution of all audio lengths over the various frequencies\n",
    "# DONT' DELETE THIS!!!!\n",
    "#######################\n",
    "\n",
    "baz = []\n",
    "for freq in frequencies:\n",
    "# print('Frequency Max: {}'.format(freq))\n",
    "    for wav in [w for w in os.listdir('emodb/wav/') if w.endswith('.wav')][:]:\n",
    "        y, sr = librosa.load('emodb/wav/' + wav, sr=sampling_rate)\n",
    "        baz.append(y.shape[0]/sampling_rate)\n",
    "    \n",
    "fig = plt.figure(figsize=(20,6))\n",
    "plt.hist(baz, bins=np.arange(0.25,np.max(baz)+.1,0.25), rwidth=0.90)\n",
    "plt.xticks(np.arange(0.25,np.max(baz)+.1,0.25))\n",
    "# plt.yticks(np.arange(0,900, 50))\n",
    "# plt.xlim([0.5,5]) #cut off if you want to leave outliers ( 5 sec+) out\n",
    "plt.grid()\n",
    "plt.show()"
   ]
  },
  {
   "cell_type": "code",
   "execution_count": null,
   "metadata": {
    "collapsed": true
   },
   "outputs": [],
   "source": []
  }
 ],
 "metadata": {
  "kernelspec": {
   "display_name": "Python 3",
   "language": "python",
   "name": "python3"
  },
  "language_info": {
   "codemirror_mode": {
    "name": "ipython",
    "version": 3
   },
   "file_extension": ".py",
   "mimetype": "text/x-python",
   "name": "python",
   "nbconvert_exporter": "python",
   "pygments_lexer": "ipython3",
   "version": "3.5.3"
  }
 },
 "nbformat": 4,
 "nbformat_minor": 2
}
