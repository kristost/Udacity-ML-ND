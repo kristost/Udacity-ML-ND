{
 "cells": [
  {
   "cell_type": "code",
   "execution_count": null,
   "metadata": {},
   "outputs": [],
   "source": [
    "!pip install librosa\n",
    "!pip install seaborn"
   ]
  },
  {
   "cell_type": "code",
   "execution_count": null,
   "metadata": {
    "colab": {
     "autoexec": {
      "startup": false,
      "wait_interval": 0
     },
     "base_uri": "https://localhost:8080/",
     "height": 34
    },
    "colab_type": "code",
    "executionInfo": {
     "elapsed": 7869,
     "status": "ok",
     "timestamp": 1524825730352,
     "user": {
      "displayName": "Kris Tost",
      "photoUrl": "https://lh3.googleusercontent.com/a/default-user=s128",
      "userId": "113522037869156152823"
     },
     "user_tz": -480
    },
    "id": "hInSD5ikCHRq",
    "outputId": "d753e3b9-3aed-4de0-896a-5aecdb981ce6"
   },
   "outputs": [],
   "source": [
    "import numpy as np\n",
    "import pandas as pd\n",
    "import matplotlib.pyplot as plt\n",
    "import keras"
   ]
  },
  {
   "cell_type": "code",
   "execution_count": null,
   "metadata": {
    "colab": {
     "autoexec": {
      "startup": false,
      "wait_interval": 0
     }
    },
    "colab_type": "code",
    "collapsed": true,
    "id": "0vtQAK59B96N"
   },
   "outputs": [],
   "source": [
    "import os"
   ]
  },
  {
   "cell_type": "code",
   "execution_count": null,
   "metadata": {},
   "outputs": [],
   "source": [
    "mkdir saved_models"
   ]
  },
  {
   "cell_type": "code",
   "execution_count": null,
   "metadata": {
    "collapsed": true
   },
   "outputs": [],
   "source": [
    "# Set the directory where the spectrogram data resides\n",
    "data_dir = '/mel2dot6/'"
   ]
  },
  {
   "cell_type": "code",
   "execution_count": null,
   "metadata": {
    "colab": {
     "autoexec": {
      "startup": false,
      "wait_interval": 0
     }
    },
    "colab_type": "code",
    "collapsed": true,
    "id": "krtRIKsrD0ev"
   },
   "outputs": [],
   "source": [
    "from sklearn.utils import shuffle\n",
    "dir_listing = [f for f in os.listdir(data_dir) if '.pkl' not in f]\n",
    "dir_listing = shuffle(dir_listing)"
   ]
  },
  {
   "cell_type": "code",
   "execution_count": null,
   "metadata": {
    "colab": {
     "autoexec": {
      "startup": false,
      "wait_interval": 0
     }
    },
    "colab_type": "code",
    "collapsed": true,
    "id": "I8Ti_0sOB96S"
   },
   "outputs": [],
   "source": [
    "specgrams = [data_dir + x for x in dir_listing]"
   ]
  },
  {
   "cell_type": "code",
   "execution_count": null,
   "metadata": {
    "colab": {
     "autoexec": {
      "startup": false,
      "wait_interval": 0
     },
     "base_uri": "https://localhost:8080/",
     "height": 34
    },
    "colab_type": "code",
    "executionInfo": {
     "elapsed": 699,
     "status": "ok",
     "timestamp": 1524825790416,
     "user": {
      "displayName": "Kris Tost",
      "photoUrl": "https://lh3.googleusercontent.com/a/default-user=s128",
      "userId": "113522037869156152823"
     },
     "user_tz": -480
    },
    "id": "Qh6rq0ZXB96X",
    "outputId": "431d42e1-c00f-4b5c-9d87-adade57d7970"
   },
   "outputs": [],
   "source": [
    "specgrams[0:1]"
   ]
  },
  {
   "cell_type": "code",
   "execution_count": null,
   "metadata": {
    "colab": {
     "autoexec": {
      "startup": false,
      "wait_interval": 0
     }
    },
    "colab_type": "code",
    "collapsed": true,
    "id": "B3h1pzYJB96a"
   },
   "outputs": [],
   "source": [
    "from keras.preprocessing import image\n",
    "import PIL\n",
    "from sklearn.utils import shuffle"
   ]
  },
  {
   "cell_type": "code",
   "execution_count": null,
   "metadata": {
    "colab": {
     "autoexec": {
      "startup": false,
      "wait_interval": 0
     }
    },
    "colab_type": "code",
    "collapsed": true,
    "id": "UdcQF4EhB96c"
   },
   "outputs": [],
   "source": [
    "def img_path_to_tensor(img_path):\n",
    "    img = image.load_img(img_path)\n",
    "    img = img.crop((3, 3, img.width-3, img.height-4))\n",
    "\n",
    "    x = image.img_to_array(img)\n",
    "\n",
    "    x = np.expand_dims(x, axis=0)\n",
    "\n",
    "    return np.asarray(x, np.uint8)"
   ]
  },
  {
   "cell_type": "code",
   "execution_count": null,
   "metadata": {
    "colab": {
     "autoexec": {
      "startup": false,
      "wait_interval": 0
     }
    },
    "colab_type": "code",
    "id": "Zn9NTXZkJhv0"
   },
   "outputs": [],
   "source": [
    "# extract the speaker IDs from the file names for use in k-fold and LOSO evaluation \n",
    "str_index = str.index(specgrams[0][1:],'/') + 1\n",
    "print(str_index)\n",
    "kfold_groups = [x[str_index+1:str_index+3] for x in specgrams]\n",
    "np.unique(kfold_groups)"
   ]
  },
  {
   "cell_type": "code",
   "execution_count": null,
   "metadata": {
    "colab": {
     "autoexec": {
      "startup": false,
      "wait_interval": 0
     }
    },
    "colab_type": "code",
    "collapsed": true,
    "id": "4_NSFwKaB96h"
   },
   "outputs": [],
   "source": [
    "list_of_tensors = [img_path_to_tensor(x) for x in specgrams]"
   ]
  },
  {
   "cell_type": "code",
   "execution_count": null,
   "metadata": {
    "colab": {
     "autoexec": {
      "startup": false,
      "wait_interval": 0
     }
    },
    "colab_type": "code",
    "id": "N9-arThAB96m"
   },
   "outputs": [],
   "source": [
    "list_of_tensors[0].shape"
   ]
  },
  {
   "cell_type": "code",
   "execution_count": null,
   "metadata": {
    "colab": {
     "autoexec": {
      "startup": false,
      "wait_interval": 0
     },
     "base_uri": "https://localhost:8080/",
     "height": 314
    },
    "colab_type": "code",
    "executionInfo": {
     "elapsed": 1108,
     "status": "ok",
     "timestamp": 1524825808984,
     "user": {
      "displayName": "Kris Tost",
      "photoUrl": "https://lh3.googleusercontent.com/a/default-user=s128",
      "userId": "113522037869156152823"
     },
     "user_tz": -480
    },
    "id": "UkkwWPdMB96q",
    "outputId": "a0ceb5f4-8a21-4b4f-b17b-8e3c659baa96"
   },
   "outputs": [],
   "source": [
    "# Plot a spectrogram to ensure the file has been read in correctly\n",
    "fig = plt.figure()\n",
    "plt.imshow(np.asarray(list_of_tensors[0][0], dtype=np.uint8))\n",
    "fig.tight_layout()\n",
    "plt.show()"
   ]
  },
  {
   "cell_type": "code",
   "execution_count": null,
   "metadata": {
    "colab": {
     "autoexec": {
      "startup": false,
      "wait_interval": 0
     }
    },
    "colab_type": "code",
    "collapsed": true,
    "id": "zmcHJKy_PsB1"
   },
   "outputs": [],
   "source": [
    "plt.close()"
   ]
  },
  {
   "cell_type": "code",
   "execution_count": null,
   "metadata": {
    "colab": {
     "autoexec": {
      "startup": false,
      "wait_interval": 0
     }
    },
    "colab_type": "code",
    "collapsed": true,
    "id": "ZSlusgdGB966"
   },
   "outputs": [],
   "source": [
    "list_of_tensors = np.vstack(list_of_tensors)"
   ]
  },
  {
   "cell_type": "code",
   "execution_count": null,
   "metadata": {
    "colab": {
     "autoexec": {
      "startup": false,
      "wait_interval": 0
     },
     "base_uri": "https://localhost:8080/",
     "height": 34
    },
    "colab_type": "code",
    "executionInfo": {
     "elapsed": 774,
     "status": "ok",
     "timestamp": 1524825813429,
     "user": {
      "displayName": "Kris Tost",
      "photoUrl": "https://lh3.googleusercontent.com/a/default-user=s128",
      "userId": "113522037869156152823"
     },
     "user_tz": -480
    },
    "id": "l6ug-8mQB97B",
    "outputId": "b9330852-cacd-4e89-f193-e8c58500596a"
   },
   "outputs": [],
   "source": [
    "list_of_tensors.shape"
   ]
  },
  {
   "cell_type": "code",
   "execution_count": null,
   "metadata": {
    "colab": {
     "autoexec": {
      "startup": false,
      "wait_interval": 0
     }
    },
    "colab_type": "code",
    "collapsed": true,
    "id": "1-sxo2L3FGNU"
   },
   "outputs": [],
   "source": [
    "# Get the emotion label character from the filename\n",
    "label_start_index = str_index + 6"
   ]
  },
  {
   "cell_type": "code",
   "execution_count": null,
   "metadata": {
    "colab": {
     "autoexec": {
      "startup": false,
      "wait_interval": 0
     },
     "base_uri": "https://localhost:8080/",
     "height": 34
    },
    "colab_type": "code",
    "executionInfo": {
     "elapsed": 764,
     "status": "ok",
     "timestamp": 1524825815112,
     "user": {
      "displayName": "Kris Tost",
      "photoUrl": "https://lh3.googleusercontent.com/a/default-user=s128",
      "userId": "113522037869156152823"
     },
     "user_tz": -480
    },
    "id": "bV3ULSzfmh1F",
    "outputId": "c2c4265f-4f8c-4d11-bb99-95bd7847b104"
   },
   "outputs": [],
   "source": [
    "# Display the emotion label character from the filename to ensure it's correctly found\n",
    "specgrams[0][label_start_index:label_start_index+1]"
   ]
  },
  {
   "cell_type": "code",
   "execution_count": null,
   "metadata": {
    "colab": {
     "autoexec": {
      "startup": false,
      "wait_interval": 0
     },
     "base_uri": "https://localhost:8080/",
     "height": 51
    },
    "colab_type": "code",
    "executionInfo": {
     "elapsed": 694,
     "status": "ok",
     "timestamp": 1524825815953,
     "user": {
      "displayName": "Kris Tost",
      "photoUrl": "https://lh3.googleusercontent.com/a/default-user=s128",
      "userId": "113522037869156152823"
     },
     "user_tz": -480
    },
    "id": "0-pRq7tHB97K",
    "outputId": "fa89660a-24d2-4bf1-ec4c-b464e82afc21"
   },
   "outputs": [],
   "source": [
    "# One-hot encoding of the emotion labels; mapping from German to English emotion labels\n",
    "\n",
    "from sklearn.preprocessing import LabelEncoder\n",
    "from keras.utils import np_utils\n",
    "\n",
    "labels = [x[label_start_index:label_start_index+1] for x in specgrams]\n",
    "eng_dict = {'W': 'Anger', 'L': 'Boredom', 'E': 'Disgust', 'A': 'Fear', 'F': 'Happy', 'T': 'Sad', 'N': 'Neutral'}\n",
    "labels = [eng_dict[x] for x in labels]\n",
    "\n",
    "encoder = LabelEncoder()\n",
    "Y = encoder.fit_transform(labels).reshape(-1, 1)\n",
    "print(Y.shape)\n",
    "\n",
    "num_classes = len(np.unique(Y))\n",
    "Y = keras.utils.to_categorical(Y, num_classes)\n",
    "print(Y.shape)"
   ]
  },
  {
   "cell_type": "code",
   "execution_count": null,
   "metadata": {
    "colab": {
     "autoexec": {
      "startup": false,
      "wait_interval": 0
     }
    },
    "colab_type": "code",
    "collapsed": true,
    "id": "tH0XptCzB97P"
   },
   "outputs": [],
   "source": [
    "X = list_of_tensors.astype('float32')/255\n",
    "list_of_tensors = None"
   ]
  },
  {
   "cell_type": "code",
   "execution_count": null,
   "metadata": {
    "colab": {
     "autoexec": {
      "startup": false,
      "wait_interval": 0
     },
     "base_uri": "https://localhost:8080/",
     "height": 34
    },
    "colab_type": "code",
    "executionInfo": {
     "elapsed": 761,
     "status": "ok",
     "timestamp": 1524825819570,
     "user": {
      "displayName": "Kris Tost",
      "photoUrl": "https://lh3.googleusercontent.com/a/default-user=s128",
      "userId": "113522037869156152823"
     },
     "user_tz": -480
    },
    "id": "p9bpODk_0g_r",
    "outputId": "6abe8e71-04e4-44e1-be07-4c015289272f"
   },
   "outputs": [],
   "source": [
    "X.shape"
   ]
  },
  {
   "cell_type": "code",
   "execution_count": null,
   "metadata": {
    "colab": {
     "autoexec": {
      "startup": false,
      "wait_interval": 0
     },
     "base_uri": "https://localhost:8080/",
     "height": 34
    },
    "colab_type": "code",
    "executionInfo": {
     "elapsed": 955,
     "status": "ok",
     "timestamp": 1524825820698,
     "user": {
      "displayName": "Kris Tost",
      "photoUrl": "https://lh3.googleusercontent.com/a/default-user=s128",
      "userId": "113522037869156152823"
     },
     "user_tz": -480
    },
    "id": "GGUK3x3NR5Ht",
    "outputId": "7e4103c7-6b82-4842-e591-b1213f9abd99"
   },
   "outputs": [],
   "source": [
    "import tensorflow as tf\n",
    "tf.test.gpu_device_name()"
   ]
  },
  {
   "cell_type": "code",
   "execution_count": null,
   "metadata": {
    "colab": {
     "autoexec": {
      "startup": false,
      "wait_interval": 0
     }
    },
    "colab_type": "code",
    "collapsed": true,
    "id": "1WsGe6GIB97q"
   },
   "outputs": [],
   "source": [
    "def compile_model(model):\n",
    "  import keras.optimizers\n",
    "  opt = keras.optimizers.adam(lr=0.00075)\n",
    "  model.compile(loss='categorical_crossentropy', optimizer=opt, metrics=['accuracy'])\n",
    "  \n",
    "  return model\n"
   ]
  },
  {
   "cell_type": "code",
   "execution_count": null,
   "metadata": {
    "colab": {
     "autoexec": {
      "startup": false,
      "wait_interval": 0
     }
    },
    "colab_type": "code",
    "collapsed": true,
    "id": "QxiIac_mB97t"
   },
   "outputs": [],
   "source": [
    "def create_callbacks(checkpoint_verbosity=1):\n",
    "  from keras.callbacks import ModelCheckpoint, EarlyStopping\n",
    "\n",
    "  checkpointer = ModelCheckpoint(filepath='saved_models/weights.best.from_scratch.hdf5',\n",
    "                                verbose=checkpoint_verbosity, save_best_only=True)\n",
    "\n",
    "  early_stopping = EarlyStopping(monitor='val_loss', patience=5)\n",
    "  \n",
    "  return [checkpointer, early_stopping]\n"
   ]
  },
  {
   "cell_type": "code",
   "execution_count": null,
   "metadata": {
    "colab": {
     "autoexec": {
      "startup": false,
      "wait_interval": 0
     }
    },
    "colab_type": "code",
    "collapsed": true,
    "id": "Dbq6Bk24B97a"
   },
   "outputs": [],
   "source": [
    "def summarise_train_val_split():\n",
    "  # (x_train, x_test) = X[:450], X[450:]\n",
    "  # (y_train, y_test) = Y[:450], Y[450:]\n",
    "\n",
    "  print(x_train.shape[0], 'X train samples')\n",
    "  print(x_test.shape[0], 'X test samples')\n",
    "  print(y_train.shape[0], 'Y train samples')\n",
    "  print(y_test.shape[0], 'Y test samples')\n",
    "\n",
    "  print(num_classes, 'classes')"
   ]
  },
  {
   "cell_type": "code",
   "execution_count": null,
   "metadata": {
    "colab": {
     "autoexec": {
      "startup": false,
      "wait_interval": 0
     }
    },
    "colab_type": "code",
    "collapsed": true,
    "id": "sxoROo95YUv9"
   },
   "outputs": [],
   "source": [
    "from sklearn.model_selection import train_test_split, GroupKFold, LeaveOneGroupOut, KFold"
   ]
  },
  {
   "cell_type": "code",
   "execution_count": null,
   "metadata": {
    "colab": {
     "autoexec": {
      "startup": false,
      "wait_interval": 0
     }
    },
    "colab_type": "code",
    "collapsed": true,
    "id": "vtLZ74MWB979"
   },
   "outputs": [],
   "source": [
    "from sklearn.metrics import precision_recall_fscore_support, recall_score, precision_score, confusion_matrix, accuracy_score, classification_report"
   ]
  },
  {
   "cell_type": "code",
   "execution_count": null,
   "metadata": {
    "colab": {
     "autoexec": {
      "startup": false,
      "wait_interval": 0
     },
     "base_uri": "https://localhost:8080/",
     "height": 34
    },
    "colab_type": "code",
    "executionInfo": {
     "elapsed": 755,
     "status": "ok",
     "timestamp": 1524825827824,
     "user": {
      "displayName": "Kris Tost",
      "photoUrl": "https://lh3.googleusercontent.com/a/default-user=s128",
      "userId": "113522037869156152823"
     },
     "user_tz": -480
    },
    "id": "pMJ3Xjv6fRDv",
    "outputId": "618bae50-e22a-416d-b9bf-46bd342f59b3"
   },
   "outputs": [],
   "source": [
    "# Uncomment the lines as required to choose the groupings for LOSO/k-fold cross-val\n",
    "# Default is XBOW\n",
    "\n",
    "# XBOW-style split (test set is all speakers with ID <= 10)\n",
    "groupings = np.unique([0 if int(x) <=10 else 1 for x in kfold_groups], return_index=True, return_inverse=True)\n",
    "\n",
    "# Full speaker=independent split (10 speakers)\n",
    "# groupings = np.unique(kfold_groups, return_index=True, return_inverse=True)\n",
    "groupings"
   ]
  },
  {
   "cell_type": "code",
   "execution_count": null,
   "metadata": {
    "colab": {
     "autoexec": {
      "startup": false,
      "wait_interval": 0
     }
    },
    "colab_type": "code",
    "collapsed": true,
    "id": "j6Ych56dk88L"
   },
   "outputs": [],
   "source": [
    "# Speaker-independent\n",
    "cv_groups = groupings[2]\n",
    "cv = LeaveOneGroupOut()\n",
    "\n",
    "# Speaker-dependent\n",
    "# cv_groups=None\n",
    "# cv = KFold(n_splits=5, shuffle=True)"
   ]
  },
  {
   "cell_type": "code",
   "execution_count": null,
   "metadata": {
    "colab": {
     "autoexec": {
      "startup": false,
      "wait_interval": 0
     }
    },
    "colab_type": "code",
    "collapsed": true,
    "id": "1lhZyP8cJrcc"
   },
   "outputs": [],
   "source": [
    "def display_learning_curves(history):\n",
    "  plt.plot(history.history['acc'])\n",
    "  plt.plot(history.history['val_acc'])\n",
    "  plt.title('model accuracy')\n",
    "  plt.ylabel('accuracy')\n",
    "  plt.xlabel('epoch')\n",
    "  plt.legend(['train', 'validation'], loc='upper left')\n",
    "  plt.show()\n",
    "  # summarize history for loss\n",
    "  plt.plot(history.history['loss'])\n",
    "  plt.plot(history.history['val_loss'])\n",
    "  plt.title('model loss')\n",
    "  plt.ylabel('loss')\n",
    "  plt.xlabel('epoch')\n",
    "  plt.legend(['train', 'validation'], loc='upper left')\n",
    "  plt.show()"
   ]
  },
  {
   "cell_type": "code",
   "execution_count": null,
   "metadata": {
    "colab": {
     "autoexec": {
      "startup": false,
      "wait_interval": 0
     }
    },
    "colab_type": "code",
    "collapsed": true,
    "id": "-u1q9cNfB97h"
   },
   "outputs": [],
   "source": [
    "def create_model(show_model=True):\n",
    "  from keras.models import Sequential\n",
    "  from keras.layers import Conv2D, MaxPooling2D, Flatten, Dense, Dropout, GlobalAveragePooling2D, AveragePooling2D, GlobalMaxPooling2D\n",
    "  from keras.layers import Activation, BatchNormalization\n",
    "\n",
    "  model = Sequential()\n",
    "\n",
    "  model.add(Conv2D(filters=64, kernel_size=5, strides=3, padding='same', input_shape=X.shape[1:]))\n",
    "  model.add(BatchNormalization())\n",
    "  model.add(Activation('relu'))\n",
    "    \n",
    "  model.add(MaxPooling2D(pool_size=2))\n",
    "  \n",
    "  model.add(Conv2D(filters=128, kernel_size=3, strides=2, padding='same'))\n",
    "  model.add(BatchNormalization())\n",
    "  model.add(Activation('relu'))\n",
    "  \n",
    "  model.add(MaxPooling2D(pool_size=2))\n",
    "  \n",
    "  model.add(Flatten())\n",
    "\n",
    "  model.add(Dense(1024, activation='relu'))\n",
    "  model.add(BatchNormalization())\n",
    "  model.add(Activation('relu'))\n",
    "  model.add(Dropout(0.2))\n",
    "    \n",
    "  model.add(Dense(1024, activation='relu'))\n",
    "  model.add(BatchNormalization())\n",
    "  model.add(Activation('relu'))\n",
    "  model.add(Dropout(0.2))\n",
    "\n",
    "  model.add(Dense(num_classes, activation='softmax'))\n",
    "\n",
    "  if show_model:\n",
    "    model.summary()\n",
    "  \n",
    "  return model"
   ]
  },
  {
   "cell_type": "markdown",
   "metadata": {},
   "source": [
    "### If you want to do k-fold cross-validation on your model, run the next two cells."
   ]
  },
  {
   "cell_type": "code",
   "execution_count": null,
   "metadata": {
    "colab": {
     "autoexec": {
      "startup": false,
      "wait_interval": 0
     }
    },
    "colab_type": "code",
    "id": "lGYpYoMHB97Y",
    "scrolled": true
   },
   "outputs": [],
   "source": [
    "# Run this cell if you want to perform a k-fold cross-validation on your data.\n",
    "# Warning! Running this could take some time!\n",
    "# Ensure that you have selected the appropriate cross-validator above, and the LOSO groupings if required.\n",
    "#\n",
    "scores = []\n",
    "for index, (train_idx, val_idx) in enumerate(cv.split(X, Y, groups=cv_groups)):\n",
    "  print(\"Training on fold: %s\" % index)\n",
    "  print(len(train_idx), len(val_idx))\n",
    "  x_train, x_val = X[train_idx], X[val_idx]\n",
    "  y_train, y_val = Y[train_idx], Y[val_idx]\n",
    "  \n",
    "  model = None\n",
    "  model = create_model(show_model=False)\n",
    "  model = compile_model(model)\n",
    "  callbacks = create_callbacks(checkpoint_verbosity=0)\n",
    "  \n",
    "  history = model.fit(x_train, y_train, batch_size=16, epochs=25, \n",
    "                      validation_split=0.33, callbacks=[callbacks[0]], verbose=0, shuffle=True)\n",
    "  \n",
    "  display_learning_curves(history)\n",
    "  \n",
    "#   print(x_val.shape, y_val.shape)\n",
    "#   score = model.evaluate(x_val, y_val, verbose=1)\n",
    "#   print('\\n', 'Test accuracy:', history.history['acc'])\n",
    "#   print('\\n', 'Validation accuracy:', history.history['val_acc'])\n",
    "  \n",
    "  print(x_val.shape, y_val.shape)\n",
    "  model.load_weights('saved_models/weights.best.from_scratch.hdf5')\n",
    "  score = model.evaluate(x_val, y_val, verbose=1)\n",
    "  print('\\n', 'Test (KFold Validation Set) accuracy:', score[1])\n",
    "  \n",
    "  preds = model.predict(x_val)\n",
    "  preds = np_utils.to_categorical(np.argmax(preds, axis=1), 7)\n",
    "  print('Score: {}; Acc(WA): {}; UAR: {}'.format(score[1], accuracy_score(y_val, preds), np.mean(recall_score(y_val, preds, average=None))))\n",
    "\n",
    "  scores.append([index, score[1], score[0], accuracy_score(y_val, preds), np.mean(recall_score(y_val, preds, average=None))])"
   ]
  },
  {
   "cell_type": "code",
   "execution_count": null,
   "metadata": {},
   "outputs": [],
   "source": [
    "# Run this cell if you want to see the mean result values for a k-fold cross-val experiment\n",
    "import pandas as pd\n",
    "\n",
    "df = pd.DataFrame(scores, columns=['KFold', 'Test Acc', 'Test Loss', 'WA', 'UAR'])\n",
    "print('Mean WA: ', np.mean(df['WA']))\n",
    "print('Mean UAR: ', np.mean(df['UAR']))\n",
    "df"
   ]
  },
  {
   "cell_type": "markdown",
   "metadata": {},
   "source": [
    "### If you want to perform an XBOW-style LOSO validation or just train a model, use the cells below to do so."
   ]
  },
  {
   "cell_type": "code",
   "execution_count": null,
   "metadata": {
    "colab": {
     "autoexec": {
      "startup": false,
      "wait_interval": 0
     },
     "base_uri": "https://localhost:8080/",
     "height": 102
    },
    "colab_type": "code",
    "executionInfo": {
     "elapsed": 3922,
     "status": "ok",
     "timestamp": 1524825877447,
     "user": {
      "displayName": "Kris Tost",
      "photoUrl": "https://lh3.googleusercontent.com/a/default-user=s128",
      "userId": "113522037869156152823"
     },
     "user_tz": -480
    },
    "id": "AhBHx_NaB97d",
    "outputId": "1a0d3cc1-2033-43a2-8307-d25f2a542b73"
   },
   "outputs": [],
   "source": [
    "# Uncomment the lines below depending on whether you want a 'vanilla' train/test split\n",
    "# or an XBOW-style data split (with the validation dataset taken from the XBOW-grouped training data -- more robust!)\n",
    "\n",
    "# 1. \"OLD SCHOOL\" (non-KFold i.e. speaker-dependent)\n",
    "# x_train, x_test, y_train, y_test = train_test_split(X, Y, test_size=0.33, random_state=43, stratify=Y)\n",
    "\n",
    "# 2. This will double-check that the cross-validator is working as expected, \n",
    "# it should produce results similar to full CV\n",
    "## train_idx, test_idx = cv.split(X, Y, groups=cv_groups)\n",
    "## XBOW-style LOSO data split\n",
    "for (train_idx, test_idx) in cv.split(X, Y, groups=cv_groups):\n",
    "  break\n",
    "x_train_tmp, x_test = X[train_idx], X[test_idx]\n",
    "y_train_tmp, y_test = Y[train_idx], Y[test_idx]\n",
    "\n",
    "x_train, x_val, y_train, y_val = train_test_split(x_train_tmp, y_train_tmp, test_size=0.33, random_state=43, stratify=y_train_tmp)\n",
    "\n",
    "summarise_train_val_split()\n",
    "\n",
    "print(x_val.shape[0], 'X validation samples')\n",
    "print(y_val.shape[0], 'Y validation samples')"
   ]
  },
  {
   "cell_type": "code",
   "execution_count": null,
   "metadata": {
    "colab": {
     "autoexec": {
      "startup": false,
      "wait_interval": 0
     },
     "base_uri": "https://localhost:8080/",
     "height": 68
    },
    "colab_type": "code",
    "collapsed": true,
    "executionInfo": {
     "elapsed": 2126,
     "status": "ok",
     "timestamp": 1524825881015,
     "user": {
      "displayName": "Kris Tost",
      "photoUrl": "https://lh3.googleusercontent.com/a/default-user=s128",
      "userId": "113522037869156152823"
     },
     "user_tz": -480
    },
    "id": "o66TtciKk-Zo",
    "outputId": "e4f28a73-a851-4e3f-ca07-fd6157e2ef2f"
   },
   "outputs": [],
   "source": [
    "x_train_tmp = None\n",
    "y_train_tmp = None\n",
    "history = None"
   ]
  },
  {
   "cell_type": "code",
   "execution_count": null,
   "metadata": {
    "colab": {
     "autoexec": {
      "startup": false,
      "wait_interval": 0
     },
     "base_uri": "https://localhost:8080/",
     "height": 340
    },
    "colab_type": "code",
    "executionInfo": {
     "elapsed": 766,
     "status": "ok",
     "timestamp": 1524828846033,
     "user": {
      "displayName": "Kris Tost",
      "photoUrl": "https://lh3.googleusercontent.com/a/default-user=s128",
      "userId": "113522037869156152823"
     },
     "user_tz": -480
    },
    "id": "ujWeW1qYlHAj",
    "outputId": "7a048775-1569-40e1-df64-556b06a8a74a"
   },
   "outputs": [],
   "source": [
    "model = None\n",
    "model = create_model()\n",
    "model = compile_model(model)\n",
    "callbacks = create_callbacks()"
   ]
  },
  {
   "cell_type": "code",
   "execution_count": null,
   "metadata": {
    "colab": {
     "autoexec": {
      "startup": false,
      "wait_interval": 0
     },
     "base_uri": "https://localhost:8080/",
     "height": 1486
    },
    "colab_type": "code",
    "executionInfo": {
     "elapsed": 74961,
     "status": "ok",
     "timestamp": 1524828936952,
     "user": {
      "displayName": "Kris Tost",
      "photoUrl": "https://lh3.googleusercontent.com/a/default-user=s128",
      "userId": "113522037869156152823"
     },
     "user_tz": -480
    },
    "id": "lRf0Ad07GB99",
    "outputId": "ab948b95-ce8f-4777-9e0a-da0832d2f489"
   },
   "outputs": [],
   "source": [
    "# Uncomment one or the other validation lines below, depending on your needs.\n",
    "# For example, if you chose a 'vanilla' train/test split above, just choose 'validation_split'.\n",
    "# However if you used the XBOW data split, choose the 'validation_data' line.\n",
    "#\n",
    "history = model.fit(x_train, y_train, batch_size=16, epochs=25, \n",
    "          validation_data=(x_val, y_val),\n",
    "#           validation_split=0.15,\n",
    "          callbacks=[callbacks[0]], verbose=1, shuffle=True)\n",
    "\n",
    "display_learning_curves(history)"
   ]
  },
  {
   "cell_type": "markdown",
   "metadata": {},
   "source": [
    "### Run the cells below to see the testing results and metrics, as well as classification reports and heatmap confusion matrices."
   ]
  },
  {
   "cell_type": "code",
   "execution_count": null,
   "metadata": {
    "colab": {
     "autoexec": {
      "startup": false,
      "wait_interval": 0
     },
     "base_uri": "https://localhost:8080/",
     "height": 85
    },
    "colab_type": "code",
    "executionInfo": {
     "elapsed": 2545,
     "status": "ok",
     "timestamp": 1524828939535,
     "user": {
      "displayName": "Kris Tost",
      "photoUrl": "https://lh3.googleusercontent.com/a/default-user=s128",
      "userId": "113522037869156152823"
     },
     "user_tz": -480
    },
    "id": "ZYKTaVDlB972",
    "outputId": "fad020db-104b-4cd3-ae81-4bb0f64831d8"
   },
   "outputs": [],
   "source": [
    "print(x_test.shape, y_test.shape)\n",
    "model.load_weights('saved_models/weights.best.from_scratch.hdf5')\n",
    "score = model.evaluate(x_test, y_test, verbose=1)\n",
    "print('\\n', 'Test accuracy:', score[1])"
   ]
  },
  {
   "cell_type": "code",
   "execution_count": null,
   "metadata": {
    "colab": {
     "autoexec": {
      "startup": false,
      "wait_interval": 0
     }
    },
    "colab_type": "code",
    "collapsed": true,
    "id": "UyzoqTuiwxTK"
   },
   "outputs": [],
   "source": [
    "preds = model.predict(x_test)\n",
    "preds = np_utils.to_categorical(np.argmax(preds, axis=1), 7)"
   ]
  },
  {
   "cell_type": "code",
   "execution_count": null,
   "metadata": {
    "colab": {
     "autoexec": {
      "startup": false,
      "wait_interval": 0
     },
     "base_uri": "https://localhost:8080/",
     "height": 306
    },
    "colab_type": "code",
    "executionInfo": {
     "elapsed": 2792,
     "status": "ok",
     "timestamp": 1524828944958,
     "user": {
      "displayName": "Kris Tost",
      "photoUrl": "https://lh3.googleusercontent.com/a/default-user=s128",
      "userId": "113522037869156152823"
     },
     "user_tz": -480
    },
    "id": "B86GpgI4ymze",
    "outputId": "c2ff1886-d802-43e8-82ae-c6fa755e9b5a"
   },
   "outputs": [],
   "source": [
    "print(classification_report(y_test, preds, target_names=np.unique(labels)))\n",
    "print()\n",
    "print('Score: {}; Acc(WA): {}; UAR: {}'.format(score[1], accuracy_score(y_test, preds), np.mean(recall_score(y_test, preds, average=None))))\n",
    "\n",
    "\n",
    "train_score = model.evaluate(x_train, y_train, verbose=0)\n",
    "print('Train Score (measure of bias/variance): {}'.format(train_score[1]))\n",
    "print('Bias: {}'.format(1-train_score[1]))\n",
    "print('Variance: {}'.format(train_score[1] - score[1]))"
   ]
  },
  {
   "cell_type": "code",
   "execution_count": null,
   "metadata": {
    "colab": {
     "autoexec": {
      "startup": false,
      "wait_interval": 0
     }
    },
    "colab_type": "code",
    "collapsed": true,
    "id": "1Fcgf2ROyp7S"
   },
   "outputs": [],
   "source": [
    "preds = np.argmax(model.predict(x_test), axis=1)\n",
    "cm = confusion_matrix(np.argmax(y_test, axis=1), preds)"
   ]
  },
  {
   "cell_type": "code",
   "execution_count": null,
   "metadata": {
    "colab": {
     "autoexec": {
      "startup": false,
      "wait_interval": 0
     }
    },
    "colab_type": "code",
    "collapsed": true,
    "id": "ZOstfIirzbdv"
   },
   "outputs": [],
   "source": [
    "import seaborn as sb"
   ]
  },
  {
   "cell_type": "code",
   "execution_count": null,
   "metadata": {
    "colab": {
     "autoexec": {
      "startup": false,
      "wait_interval": 0
     },
     "base_uri": "https://localhost:8080/",
     "height": 34
    },
    "colab_type": "code",
    "executionInfo": {
     "elapsed": 817,
     "status": "ok",
     "timestamp": 1524827917645,
     "user": {
      "displayName": "Kris Tost",
      "photoUrl": "https://lh3.googleusercontent.com/a/default-user=s128",
      "userId": "113522037869156152823"
     },
     "user_tz": -480
    },
    "id": "dYdEbXvE4Qwm",
    "outputId": "4876778b-2e63-498d-b77d-b09589dedec4"
   },
   "outputs": [],
   "source": [
    "np.unique(np.argmax(y_test, axis=1))"
   ]
  },
  {
   "cell_type": "code",
   "execution_count": null,
   "metadata": {
    "colab": {
     "autoexec": {
      "startup": false,
      "wait_interval": 0
     }
    },
    "colab_type": "code",
    "collapsed": true,
    "id": "9t6g_43R5f7W"
   },
   "outputs": [],
   "source": [
    "classes = np.unique(labels)"
   ]
  },
  {
   "cell_type": "code",
   "execution_count": null,
   "metadata": {
    "collapsed": true
   },
   "outputs": [],
   "source": [
    "%matplotlib inline"
   ]
  },
  {
   "cell_type": "code",
   "execution_count": null,
   "metadata": {
    "colab": {
     "autoexec": {
      "startup": false,
      "wait_interval": 0
     },
     "base_uri": "https://localhost:8080/",
     "height": 364
    },
    "colab_type": "code",
    "executionInfo": {
     "elapsed": 1092,
     "status": "ok",
     "timestamp": 1524827919860,
     "user": {
      "displayName": "Kris Tost",
      "photoUrl": "https://lh3.googleusercontent.com/a/default-user=s128",
      "userId": "113522037869156152823"
     },
     "user_tz": -480
    },
    "id": "StqS9ms-5roJ",
    "outputId": "0ec4350d-5e44-44d2-f3bc-eabc70477d2d"
   },
   "outputs": [],
   "source": [
    "sb.heatmap(pd.DataFrame(cm, index=classes, columns=classes), annot=True)"
   ]
  },
  {
   "cell_type": "code",
   "execution_count": null,
   "metadata": {
    "colab": {
     "autoexec": {
      "startup": false,
      "wait_interval": 0
     }
    },
    "colab_type": "code",
    "collapsed": true,
    "id": "PZOYPz5m6W42"
   },
   "outputs": [],
   "source": [
    "cm = ((cm.astype('float') / cm.sum(axis=1)[:, np.newaxis])*100.0)"
   ]
  },
  {
   "cell_type": "code",
   "execution_count": null,
   "metadata": {
    "colab": {
     "autoexec": {
      "startup": false,
      "wait_interval": 0
     },
     "base_uri": "https://localhost:8080/",
     "height": 364
    },
    "colab_type": "code",
    "executionInfo": {
     "elapsed": 1263,
     "status": "ok",
     "timestamp": 1524827922041,
     "user": {
      "displayName": "Kris Tost",
      "photoUrl": "https://lh3.googleusercontent.com/a/default-user=s128",
      "userId": "113522037869156152823"
     },
     "user_tz": -480
    },
    "id": "bb0NVSoVOJKA",
    "outputId": "29d77f5d-a3e4-4b3b-c45f-5d30c98cfa29"
   },
   "outputs": [],
   "source": [
    "sb.heatmap(pd.DataFrame(cm, index=classes, columns=classes), annot=True, fmt='2.2f')"
   ]
  },
  {
   "cell_type": "code",
   "execution_count": null,
   "metadata": {
    "collapsed": true
   },
   "outputs": [],
   "source": [
    "# Run this for a simple visualisation of the CNN model.\n",
    "from IPython.display import SVG\n",
    "from keras.utils.vis_utils import model_to_dot\n",
    "\n",
    "SVG(model_to_dot(model, show_layer_names=False, show_shapes=True).create(prog='dot', format='svg'))"
   ]
  }
 ],
 "metadata": {
  "accelerator": "GPU",
  "colab": {
   "collapsed_sections": [],
   "default_view": {},
   "name": "EmoDBConvNet_KFoldSpeakerIndependent.ipynb",
   "provenance": [
    {
     "file_id": "1VDOFXkBPl7unoBI-_DpDQkeyloHQwh32",
     "timestamp": 1523974439286
    }
   ],
   "version": "0.3.2",
   "views": {}
  },
  "kernelspec": {
   "display_name": "Python 3",
   "language": "python",
   "name": "python3"
  },
  "language_info": {
   "codemirror_mode": {
    "name": "ipython",
    "version": 3
   },
   "file_extension": ".py",
   "mimetype": "text/x-python",
   "name": "python",
   "nbconvert_exporter": "python",
   "pygments_lexer": "ipython3",
   "version": "3.5.3"
  }
 },
 "nbformat": 4,
 "nbformat_minor": 1
}
