{
 "cells": [
  {
   "cell_type": "code",
   "execution_count": null,
   "metadata": {
    "collapsed": true
   },
   "outputs": [],
   "source": [
    "import librosa\n",
    "import librosa.display\n",
    "\n",
    "import matplotlib\n",
    "import matplotlib.pyplot as plt\n",
    "from matplotlib import cm\n",
    "\n",
    "import numpy as np\n",
    "import scipy\n",
    "\n",
    "%matplotlib inline"
   ]
  },
  {
   "cell_type": "code",
   "execution_count": null,
   "metadata": {
    "collapsed": true
   },
   "outputs": [],
   "source": [
    "import os"
   ]
  },
  {
   "cell_type": "code",
   "execution_count": null,
   "metadata": {
    "collapsed": true
   },
   "outputs": [],
   "source": [
    "# Create a mel-spectrogram\n",
    "def generate_mel_spectrogram(wav, sampling_rate, win_length, hop_length):\n",
    "    \n",
    "    y, sr = librosa.load('emodb/wav/' + wav, sr=sampling_rate)\n",
    "\n",
    "    emphasized_signal = np.append(y[0], y[1:] - 0.97 * y[:-1])\n",
    "\n",
    "    y = emphasized_signal\n",
    "    \n",
    "    stft = librosa.core.stft(y, win_length=win_length, hop_length=hop_length, window=scipy.signal.hamming, center=True)\n",
    "    \n",
    "    abs_stft = np.abs(stft)**2\n",
    "    \n",
    "    D = librosa.logamplitude(abs_stft, ref=np.max)\n",
    "\n",
    "    spec = librosa.feature.melspectrogram(S=D, n_mels=40, sr=sampling_rate, norm=1, fmax=freq)\n",
    "    \n",
    "    return spec"
   ]
  },
  {
   "cell_type": "code",
   "execution_count": null,
   "metadata": {
    "collapsed": true
   },
   "outputs": [],
   "source": [
    "# Create a 'normal' (non-mel) spectrogram. This isn't currently used.\n",
    "def generate_spectrogram(wav, sampling_rate, win_length, hop_length, use_scipy=False):\n",
    "    \n",
    "    if use_scipy:\n",
    "        from scipy.io import wavfile\n",
    "        from scipy import signal\n",
    "\n",
    "        eps=1e-10\n",
    "        rate, data = wavfile.read('emodb/wav/' + wav)\n",
    "        if data.ndim > 1 : # ignore  channels 2+\n",
    "            data = data[:, 0]\n",
    "\n",
    "        nperseg = win_length\n",
    "        noverlap = hop_length\n",
    "        freqs, times, spec = signal.spectrogram(data, fs=sampling_rate, window='hamming', nperseg=nperseg, noverlap=noverlap)\n",
    "        log_specgram = np.log(spec.T.astype(np.float32) + eps)\n",
    "\n",
    "        return log_specgram\n",
    "    else:\n",
    "        y, sr = librosa.load('emodb/wav/' + wav, sr=sampling_rate)\n",
    "        S = librosa.core.stft(y, n_fft=512, hop_length=hop_length, win_length=win_length, window ='hamming')\n",
    "        S = librosa.power_to_db(S, ref=np.max)\n",
    "        \n",
    "        return S"
   ]
  },
  {
   "cell_type": "code",
   "execution_count": null,
   "metadata": {
    "collapsed": true
   },
   "outputs": [],
   "source": [
    "def save_figure(spec, frame_start, frame_end, sampling_rate, hop_length, img_name, freq, sub_spec_idx, dpi, xAxis=None, yAxis=None, plot_axis='off'):\n",
    "    fig = plt.figure()\n",
    "    plt.axis(plot_axis)\n",
    "    fig.set_size_inches((256/float(96)),((256/float(96))))\n",
    "    librosa.display.specshow(spec[:,frame_start:frame_end], cmap=cm.jet, sr=sampling_rate, hop_length=hop_length, x_axis=xAxis, y_axis=yAxis)\n",
    "    plt.savefig('emodb/specgrams/' + img_name + '_' + str(freq) + '_' + str(sub_spec_idx) + '.png',\n",
    "                bbox_inches='tight', pad_inches=-0.01, dpi=96, transparent=True)\n",
    "    # plt.show()\n",
    "    # print(img_name + '_' + str(sub_spec_idx) + '.png')\n",
    "    plt.close(fig)"
   ]
  },
  {
   "cell_type": "code",
   "execution_count": null,
   "metadata": {},
   "outputs": [],
   "source": [
    "sampling_rate = 16000\n",
    "dpi = 72\n",
    "DPI = plt.gcf().get_dpi()\n",
    "print(DPI)\n",
    "\n",
    "img_width = 256\n",
    "img_height = 256\n",
    "\n",
    "win = 25\n",
    "hop = 10\n",
    "\n",
    "win_length = int(np.round((sampling_rate / 1e3) * win))\n",
    "hop_length = int(np.round((sampling_rate / 1e3) * hop))\n",
    "\n",
    "print(win_length, hop_length)\n",
    "\n",
    "min_sec = 1.5\n",
    "min_frames = int(np.ceil(min_sec * (float(np.abs(sampling_rate)) / hop_length)))\n",
    "print('min_sec: {}'.format(min_sec))\n",
    "print('min_frames: {}'.format(min_frames))\n",
    "\n",
    "mult_dict = dict(zip(np.subtract(range(2,7,1),1), range(2,7,1)))\n",
    "print(mult_dict)\n",
    "\n",
    "frequencies = [7000, 7500, 8000]\n",
    "\n",
    "enable_splitting=True\n",
    "save_img = False\n",
    "\n",
    "slide = 10\n",
    "\n",
    "plot_axis = 'off'\n",
    "xAxis=None#'time'\n",
    "yAxis=None#'hz'"
   ]
  },
  {
   "cell_type": "code",
   "execution_count": null,
   "metadata": {
    "collapsed": true,
    "scrolled": true
   },
   "outputs": [],
   "source": [
    "tracker = []\n",
    "pickle_target = {} \n",
    "pickle_target['win_length'] = win_length\n",
    "pickle_target['hop_length'] = hop_length\n",
    "pickle_target['sampling_rate'] = sampling_rate\n",
    "pickle_target['frequencies'] = frequencies\n",
    "pickle_target['min_sec'] = min_sec\n",
    "pickle_target['min_frames'] = min_frames\n",
    "pickle_target['slide'] = slide\n",
    "\n",
    "mel_spectrograms = {}\n",
    "for freq in frequencies:\n",
    "    print('Frequency Max: {}'.format(freq))\n",
    "    for wav in [w for w in os.listdir('emodb/wav/') if w.endswith('.wav')][:]:\n",
    "\n",
    "        spec = generate_mel_spectrogram(wav, sampling_rate, win_length, hop_length)\n",
    "        print('Shape: {}'.format(spec.shape))\n",
    "        \n",
    "        img_name = wav[:-4]\n",
    "        mel_spectrograms[img_name] = spec\n",
    "\n",
    "        if (spec.shape[1] > min_frames):\n",
    "            for sub_spec in range(0, spec.shape[1]-min_frames+1, slide):\n",
    "                frame_start = sub_spec\n",
    "                frame_end = frame_start + min_frames\n",
    "                if (spec.shape[1] - frame_end < slide):\n",
    "                    frame_end = spec.shape[1]\n",
    "\n",
    "                print('start: {}, end: {}'.format(frame_start, frame_end))\n",
    "                tracker.append((frame_end-frame_start)/sampling_rate*hop_length)\n",
    "                save_figure(spec, frame_start, frame_end, sampling_rate, hop_length, img_name, freq, sub_spec, dpi)\n",
    "        else:\n",
    "            tracker.append(spec.shape[1]/sampling_rate*hop_length)\n",
    "            save_figure(spec, 0, spec.shape[1], sampling_rate, hop_length, img_name, freq, 0, dpi)\n",
    "\n",
    "pickle_target['mel_spectrograms'] = mel_spectrograms\n",
    "# print(pickle_target)"
   ]
  },
  {
   "cell_type": "code",
   "execution_count": null,
   "metadata": {
    "collapsed": true
   },
   "outputs": [],
   "source": [
    "np.max(tracker)"
   ]
  },
  {
   "cell_type": "code",
   "execution_count": null,
   "metadata": {
    "collapsed": true
   },
   "outputs": [],
   "source": [
    "np.mean(tracker)"
   ]
  },
  {
   "cell_type": "code",
   "execution_count": null,
   "metadata": {
    "collapsed": true
   },
   "outputs": [],
   "source": [
    "np.std(tracker)"
   ]
  },
  {
   "cell_type": "code",
   "execution_count": null,
   "metadata": {
    "collapsed": true
   },
   "outputs": [],
   "source": [
    "np.min(tracker)"
   ]
  },
  {
   "cell_type": "code",
   "execution_count": null,
   "metadata": {
    "collapsed": true
   },
   "outputs": [],
   "source": [
    "plt.hist(tracker)"
   ]
  },
  {
   "cell_type": "code",
   "execution_count": null,
   "metadata": {
    "collapsed": true,
    "scrolled": true
   },
   "outputs": [],
   "source": [
    "plt.show()"
   ]
  },
  {
   "cell_type": "code",
   "execution_count": null,
   "metadata": {
    "collapsed": true,
    "scrolled": false
   },
   "outputs": [],
   "source": [
    "# Plot the distribution of segment lengths\n",
    "fig = plt.figure(figsize=(7,7))\n",
    "plt.hist(tracker, bins=8, rwidth=0.9)\n",
    "# plt.xticks(range(10))\n",
    "# plt.xlim([-1,10])\n",
    "# plt.yticks(np.arange(0,900, 50))\n",
    "plt.grid()\n",
    "plt.show()\n",
    "len(tracker)"
   ]
  },
  {
   "cell_type": "code",
   "execution_count": null,
   "metadata": {
    "collapsed": true
   },
   "outputs": [],
   "source": [
    "# Plot the distribution of segment lengths\n",
    "fig = plt.figure(figsize=(7,7))\n",
    "\n",
    "bins = np.arange(0,3.1,0.2)\n",
    "plt.hist(tracker, bins=bins, rwidth=0.90)\n",
    "plt.xticks(bins)\n",
    "plt.yticks(np.arange(0,900, 50))\n",
    "plt.grid()\n",
    "plt.show()"
   ]
  },
  {
   "cell_type": "code",
   "execution_count": null,
   "metadata": {},
   "outputs": [],
   "source": [
    "# This may be useful for plotting the distribution of ALL audio lengths over the various frequencies\n",
    "# DONT' DELETE THIS!!!!\n",
    "#######################\n",
    "\n",
    "baz = []\n",
    "# for freq in [7000, 7500, 8000]:\n",
    "# print('Frequency Max: {}'.format(freq))\n",
    "for wav in [w for w in os.listdir('emodb/wav/') if w.endswith('.wav')][:]:\n",
    "    y, sr = librosa.load('emodb/wav/' + wav, sr=sampling_rate)\n",
    "    baz.append(y.shape[0]/sampling_rate)\n",
    "    \n",
    "fig = plt.figure(figsize=(15,6))\n",
    "# plt.suptitle('Hello')\n",
    "plt.xlabel('Duration (seconds)', fontsize='x-large')\n",
    "plt.ylabel('Samples', fontsize='x-large')\n",
    "plt.hist(baz, bins=np.arange(0.5,np.max(baz)+.1,0.5), rwidth=0.90)\n",
    "plt.xticks(np.arange(0.5,np.max(baz)+.1,0.5))\n",
    "# plt.yticks(np.arange(0,900, 50))\n",
    "# plt.xlim([0.5,5]) #cut off if you want to leave outliers ( 5 sec+) out\n",
    "plt.grid()\n",
    "plt.show()"
   ]
  },
  {
   "cell_type": "code",
   "execution_count": null,
   "metadata": {
    "collapsed": true
   },
   "outputs": [],
   "source": [
    "# Save the parameters and spectrograms to a file (might be useful later)\n",
    "import pickle\n",
    "import datetime\n",
    "import io\n",
    "\n",
    "fp = open(datetime.datetime.now().strftime('%Y%m%d') + '_melspec.pkl', mode='wb')\n",
    "\n",
    "pickle.dump(pickle_target, fp)"
   ]
  }
 ],
 "metadata": {
  "kernelspec": {
   "display_name": "Python 3",
   "language": "python",
   "name": "python3"
  },
  "language_info": {
   "codemirror_mode": {
    "name": "ipython",
    "version": 3
   },
   "file_extension": ".py",
   "mimetype": "text/x-python",
   "name": "python",
   "nbconvert_exporter": "python",
   "pygments_lexer": "ipython3",
   "version": "3.5.3"
  }
 },
 "nbformat": 4,
 "nbformat_minor": 2
}
